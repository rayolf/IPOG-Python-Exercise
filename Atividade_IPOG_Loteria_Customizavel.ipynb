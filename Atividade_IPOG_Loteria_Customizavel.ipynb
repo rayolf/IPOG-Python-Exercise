{
  "nbformat": 4,
  "nbformat_minor": 0,
  "metadata": {
    "colab": {
      "provenance": []
    },
    "kernelspec": {
      "name": "python3",
      "display_name": "Python 3"
    },
    "language_info": {
      "name": "python"
    }
  },
  "cells": [
    {
      "cell_type": "markdown",
      "source": [
        "#Atividade Avaliativa 2 (Lógica de Programação)"
      ],
      "metadata": {
        "id": "d_oy8Q1HUX_c"
      }
    },
    {
      "cell_type": "code",
      "execution_count": null,
      "metadata": {
        "id": "3T2fvqzvUNU5"
      },
      "outputs": [],
      "source": [
        "# Você irá jogar um pequeno jogo de 'loteria customizável' em Python.\n",
        "# AS REGRAS ESTÃO A SEGUIR: Você escolherá o primeiro e o último número,\n",
        "# gerando o range do sorteio. A diferença entre esses dois números deve ser de\n",
        "# no mínimo 10. Por exemplo, selecionando o primeiro número 1, o último deve\n",
        "# ser 11 no mínimo. Após definir o 'range' dos números do sorteio, escolha o\n",
        "# seu número da aposta. Seu número deve estar dentro do 'range' previamente\n",
        "# definido. Se o número sorteado for o seu escolhido, você venceu!"
      ]
    },
    {
      "cell_type": "code",
      "source": [
        "import random\n",
        "#---\n",
        "numeros_range = []\n",
        "#---\n",
        "jogar_novamente = True\n",
        "maior_que_zero = False\n",
        "maior_dez_unidades = False\n",
        "dentro_do_range = False\n",
        "resposta_opcoes = False\n",
        "#---\n",
        "def reset_conditions():\n",
        "  global numeros_range, jogar_novamente, maior_que_zero\n",
        "  numeros_range = []\n",
        "  jogar_novamente = True\n",
        "  maior_que_zero = False\n",
        "#---\n",
        "while jogar_novamente:\n",
        "  while not maior_que_zero:\n",
        "    numero_inicial = int(input('Digite o primeiro número do range do sorteio. Ele deve ser maior que zero: '))\n",
        "    if numero_inicial > 0:\n",
        "      maior_que_zero = True\n",
        "      print(\"\\nObrigado. Agora escolha o último número do range do sorteio\\nObs: Este deve ser maior que o primeiro no mínimo dez unidades.\\n\")\n",
        "      maior_dez_unidades = False\n",
        "    else:\n",
        "      print(\"Você não escolheu um número acima de zero.\\n\")\n",
        "#---\n",
        "  while not maior_dez_unidades:\n",
        "    numero_final = int(input('Digite o último número do range do sorteio: '))\n",
        "    if numero_final - numero_inicial >= 10 and numero_final > 0:\n",
        "      maior_dez_unidades = True\n",
        "      for i in range(numero_inicial, numero_final+1):\n",
        "        numeros_range.append(i)\n",
        "      print(\"\\nObrigado. Agora escolha o número no qual você deseja apostar. Ele deve ser um dos números abaixo.\")\n",
        "      print(f\"Esses são os números que participarão do sorteio: {numeros_range}\")\n",
        "      dentro_do_range = False\n",
        "    else:\n",
        "      if numero_final <= 0:\n",
        "        print(\"\\nVocê não escolheu um número acima de zero.\")\n",
        "      print(\"A diferença entre o primeiro e o último número não foi igual ou maior que dez.\\n\")\n",
        "  #---\n",
        "    while not dentro_do_range and maior_dez_unidades:\n",
        "      numero_apostado = int(input('\\nDigite o número que você deseja apostar: '))\n",
        "      if numero_apostado in numeros_range:\n",
        "        dentro_do_range = True\n",
        "        numero_sorteado = random.choice(numeros_range)\n",
        "        acertou = numero_apostado == numero_sorteado\n",
        "        mensagem = f\"\\nSeu número apostado foi {numero_apostado} e o número sorteado foi {numero_sorteado}. Parabéns, você acertou!\" if acertou else f\"\\nO número sorteado foi {numero_sorteado}, porém o seu número apostado foi {numero_apostado}. Mais sorte na próxima tentativa!\"\n",
        "        print(mensagem)\n",
        "        if not acertou:\n",
        "          resposta_opcoes = False\n",
        "          while not resposta_opcoes:\n",
        "            resposta_jogar = input(\"\\nDeseja apostar novamente?\\nDigite sim ou não: \")\n",
        "            if resposta_jogar == \"sim\":\n",
        "              print(\"\\nTudo bem! Vamos jogar novamente.\\n\")\n",
        "              resposta_opcoes = True\n",
        "              #---\n",
        "              reset_conditions()\n",
        "              #---\n",
        "            elif resposta_jogar == \"não\" or resposta_jogar == \"nao\":\n",
        "              print(\"\\nObrigado por jogar!\")\n",
        "              jogar_novamente = False\n",
        "              resposta_opcoes = True\n",
        "            else:\n",
        "              print(\"\\nPor favor, digite sim ou não.\")\n",
        "        else:\n",
        "            jogar_novamente = False\n",
        "      #---\n",
        "      else:\n",
        "        print(\"O número apostado não está dentro do range do sorteio.\\n\")\n",
        "#----\n"
      ],
      "metadata": {
        "colab": {
          "base_uri": "https://localhost:8080/"
        },
        "id": "3eVtmy3fx6-k",
        "outputId": "bd02cec7-b3f6-42a5-d0a3-36b094a4437b"
      },
      "execution_count": null,
      "outputs": [
        {
          "output_type": "stream",
          "name": "stdout",
          "text": [
            "Digite o primeiro número do range do sorteio. Ele deve ser maior que zero: 5\n",
            "\n",
            "Obrigado. Agora escolha o último número do range do sorteio\n",
            "Obs: Este deve ser maior que o primeiro no mínimo dez unidades.\n",
            "\n",
            "Digite o último número do range do sorteio: 15\n",
            "\n",
            "Obrigado. Agora escolha o número no qual você deseja apostar. Ele deve ser um dos números abaixo.\n",
            "Esses são os números que participarão do sorteio: [5, 6, 7, 8, 9, 10, 11, 12, 13, 14, 15]\n",
            "\n",
            "Digite o número que você deseja apostar: 10\n",
            "\n",
            "O número sorteado foi 9, porém o seu número apostado foi 10. Mais sorte na próxima tentativa!\n",
            "\n",
            "Deseja apostar novamente?\n",
            "Digite sim ou não: nao\n",
            "\n",
            "Obrigado por jogar!\n"
          ]
        }
      ]
    },
    {
      "cell_type": "code",
      "source": [],
      "metadata": {
        "id": "xXScu9MA2tja"
      },
      "execution_count": null,
      "outputs": []
    }
  ]
}